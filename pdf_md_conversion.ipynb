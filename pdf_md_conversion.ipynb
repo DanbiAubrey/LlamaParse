{
  "nbformat": 4,
  "nbformat_minor": 0,
  "metadata": {
    "colab": {
      "provenance": [],
      "authorship_tag": "ABX9TyPUqbRwB0UXKvUwF2/IO982",
      "include_colab_link": true
    },
    "kernelspec": {
      "name": "python3",
      "display_name": "Python 3"
    },
    "language_info": {
      "name": "python"
    }
  },
  "cells": [
    {
      "cell_type": "markdown",
      "metadata": {
        "id": "view-in-github",
        "colab_type": "text"
      },
      "source": [
        "<a href=\"https://colab.research.google.com/github/DanbiAubrey/LlamaParse/blob/main/pdf_md_conversion.ipynb\" target=\"_parent\"><img src=\"https://colab.research.google.com/assets/colab-badge.svg\" alt=\"Open In Colab\"/></a>"
      ]
    },
    {
      "cell_type": "code",
      "execution_count": 1,
      "metadata": {
        "colab": {
          "base_uri": "https://localhost:8080/"
        },
        "id": "Us-HO7MtvHNj",
        "outputId": "be87f2d9-ac8f-4318-a6d6-3e3aa44c9a30"
      },
      "outputs": [
        {
          "output_type": "stream",
          "name": "stdout",
          "text": [
            "Requirement already satisfied: llama-parse in /usr/local/lib/python3.11/dist-packages (0.6.53)\n",
            "Requirement already satisfied: llama-cloud-services>=0.6.53 in /usr/local/lib/python3.11/dist-packages (from llama-parse) (0.6.53)\n",
            "Requirement already satisfied: click<9.0.0,>=8.1.7 in /usr/local/lib/python3.11/dist-packages (from llama-cloud-services>=0.6.53->llama-parse) (8.2.1)\n",
            "Requirement already satisfied: llama-cloud==0.1.35 in /usr/local/lib/python3.11/dist-packages (from llama-cloud-services>=0.6.53->llama-parse) (0.1.35)\n",
            "Requirement already satisfied: llama-index-core>=0.12.0 in /usr/local/lib/python3.11/dist-packages (from llama-cloud-services>=0.6.53->llama-parse) (0.13.0)\n",
            "Requirement already satisfied: platformdirs<5.0.0,>=4.3.7 in /usr/local/lib/python3.11/dist-packages (from llama-cloud-services>=0.6.53->llama-parse) (4.3.8)\n",
            "Requirement already satisfied: pydantic!=2.10,>=2.8 in /usr/local/lib/python3.11/dist-packages (from llama-cloud-services>=0.6.53->llama-parse) (2.11.7)\n",
            "Requirement already satisfied: python-dotenv<2.0.0,>=1.0.1 in /usr/local/lib/python3.11/dist-packages (from llama-cloud-services>=0.6.53->llama-parse) (1.1.1)\n",
            "Requirement already satisfied: tenacity<10.0,>=8.5.0 in /usr/local/lib/python3.11/dist-packages (from llama-cloud-services>=0.6.53->llama-parse) (8.5.0)\n",
            "Requirement already satisfied: certifi>=2024.7.4 in /usr/local/lib/python3.11/dist-packages (from llama-cloud==0.1.35->llama-cloud-services>=0.6.53->llama-parse) (2025.7.14)\n",
            "Requirement already satisfied: httpx>=0.20.0 in /usr/local/lib/python3.11/dist-packages (from llama-cloud==0.1.35->llama-cloud-services>=0.6.53->llama-parse) (0.28.1)\n",
            "Requirement already satisfied: aiohttp<4,>=3.8.6 in /usr/local/lib/python3.11/dist-packages (from llama-index-core>=0.12.0->llama-cloud-services>=0.6.53->llama-parse) (3.12.14)\n",
            "Requirement already satisfied: aiosqlite in /usr/local/lib/python3.11/dist-packages (from llama-index-core>=0.12.0->llama-cloud-services>=0.6.53->llama-parse) (0.21.0)\n",
            "Requirement already satisfied: banks<3,>=2.2.0 in /usr/local/lib/python3.11/dist-packages (from llama-index-core>=0.12.0->llama-cloud-services>=0.6.53->llama-parse) (2.2.0)\n",
            "Requirement already satisfied: dataclasses-json in /usr/local/lib/python3.11/dist-packages (from llama-index-core>=0.12.0->llama-cloud-services>=0.6.53->llama-parse) (0.6.7)\n",
            "Requirement already satisfied: deprecated>=1.2.9.3 in /usr/local/lib/python3.11/dist-packages (from llama-index-core>=0.12.0->llama-cloud-services>=0.6.53->llama-parse) (1.2.18)\n",
            "Requirement already satisfied: dirtyjson<2,>=1.0.8 in /usr/local/lib/python3.11/dist-packages (from llama-index-core>=0.12.0->llama-cloud-services>=0.6.53->llama-parse) (1.0.8)\n",
            "Requirement already satisfied: filetype<2,>=1.2.0 in /usr/local/lib/python3.11/dist-packages (from llama-index-core>=0.12.0->llama-cloud-services>=0.6.53->llama-parse) (1.2.0)\n",
            "Requirement already satisfied: fsspec>=2023.5.0 in /usr/local/lib/python3.11/dist-packages (from llama-index-core>=0.12.0->llama-cloud-services>=0.6.53->llama-parse) (2025.3.0)\n",
            "Requirement already satisfied: llama-index-workflows<2,>=1.0.1 in /usr/local/lib/python3.11/dist-packages (from llama-index-core>=0.12.0->llama-cloud-services>=0.6.53->llama-parse) (1.2.0)\n",
            "Requirement already satisfied: nest-asyncio<2,>=1.5.8 in /usr/local/lib/python3.11/dist-packages (from llama-index-core>=0.12.0->llama-cloud-services>=0.6.53->llama-parse) (1.6.0)\n",
            "Requirement already satisfied: networkx>=3.0 in /usr/local/lib/python3.11/dist-packages (from llama-index-core>=0.12.0->llama-cloud-services>=0.6.53->llama-parse) (3.5)\n",
            "Requirement already satisfied: nltk>3.8.1 in /usr/local/lib/python3.11/dist-packages (from llama-index-core>=0.12.0->llama-cloud-services>=0.6.53->llama-parse) (3.9.1)\n",
            "Requirement already satisfied: numpy in /usr/local/lib/python3.11/dist-packages (from llama-index-core>=0.12.0->llama-cloud-services>=0.6.53->llama-parse) (2.0.2)\n",
            "Requirement already satisfied: pillow>=9.0.0 in /usr/local/lib/python3.11/dist-packages (from llama-index-core>=0.12.0->llama-cloud-services>=0.6.53->llama-parse) (11.3.0)\n",
            "Requirement already satisfied: pyyaml>=6.0.1 in /usr/local/lib/python3.11/dist-packages (from llama-index-core>=0.12.0->llama-cloud-services>=0.6.53->llama-parse) (6.0.2)\n",
            "Requirement already satisfied: requests>=2.31.0 in /usr/local/lib/python3.11/dist-packages (from llama-index-core>=0.12.0->llama-cloud-services>=0.6.53->llama-parse) (2.32.3)\n",
            "Requirement already satisfied: setuptools>=80.9.0 in /usr/local/lib/python3.11/dist-packages (from llama-index-core>=0.12.0->llama-cloud-services>=0.6.53->llama-parse) (80.9.0)\n",
            "Requirement already satisfied: sqlalchemy>=1.4.49 in /usr/local/lib/python3.11/dist-packages (from sqlalchemy[asyncio]>=1.4.49->llama-index-core>=0.12.0->llama-cloud-services>=0.6.53->llama-parse) (2.0.41)\n",
            "Requirement already satisfied: tiktoken>=0.7.0 in /usr/local/lib/python3.11/dist-packages (from llama-index-core>=0.12.0->llama-cloud-services>=0.6.53->llama-parse) (0.9.0)\n",
            "Requirement already satisfied: tqdm<5,>=4.66.1 in /usr/local/lib/python3.11/dist-packages (from llama-index-core>=0.12.0->llama-cloud-services>=0.6.53->llama-parse) (4.67.1)\n",
            "Requirement already satisfied: typing-extensions>=4.5.0 in /usr/local/lib/python3.11/dist-packages (from llama-index-core>=0.12.0->llama-cloud-services>=0.6.53->llama-parse) (4.14.1)\n",
            "Requirement already satisfied: typing-inspect>=0.8.0 in /usr/local/lib/python3.11/dist-packages (from llama-index-core>=0.12.0->llama-cloud-services>=0.6.53->llama-parse) (0.9.0)\n",
            "Requirement already satisfied: wrapt in /usr/local/lib/python3.11/dist-packages (from llama-index-core>=0.12.0->llama-cloud-services>=0.6.53->llama-parse) (1.17.2)\n",
            "Requirement already satisfied: annotated-types>=0.6.0 in /usr/local/lib/python3.11/dist-packages (from pydantic!=2.10,>=2.8->llama-cloud-services>=0.6.53->llama-parse) (0.7.0)\n",
            "Requirement already satisfied: pydantic-core==2.33.2 in /usr/local/lib/python3.11/dist-packages (from pydantic!=2.10,>=2.8->llama-cloud-services>=0.6.53->llama-parse) (2.33.2)\n",
            "Requirement already satisfied: typing-inspection>=0.4.0 in /usr/local/lib/python3.11/dist-packages (from pydantic!=2.10,>=2.8->llama-cloud-services>=0.6.53->llama-parse) (0.4.1)\n",
            "Requirement already satisfied: aiohappyeyeballs>=2.5.0 in /usr/local/lib/python3.11/dist-packages (from aiohttp<4,>=3.8.6->llama-index-core>=0.12.0->llama-cloud-services>=0.6.53->llama-parse) (2.6.1)\n",
            "Requirement already satisfied: aiosignal>=1.4.0 in /usr/local/lib/python3.11/dist-packages (from aiohttp<4,>=3.8.6->llama-index-core>=0.12.0->llama-cloud-services>=0.6.53->llama-parse) (1.4.0)\n",
            "Requirement already satisfied: attrs>=17.3.0 in /usr/local/lib/python3.11/dist-packages (from aiohttp<4,>=3.8.6->llama-index-core>=0.12.0->llama-cloud-services>=0.6.53->llama-parse) (25.3.0)\n",
            "Requirement already satisfied: frozenlist>=1.1.1 in /usr/local/lib/python3.11/dist-packages (from aiohttp<4,>=3.8.6->llama-index-core>=0.12.0->llama-cloud-services>=0.6.53->llama-parse) (1.7.0)\n",
            "Requirement already satisfied: multidict<7.0,>=4.5 in /usr/local/lib/python3.11/dist-packages (from aiohttp<4,>=3.8.6->llama-index-core>=0.12.0->llama-cloud-services>=0.6.53->llama-parse) (6.6.3)\n",
            "Requirement already satisfied: propcache>=0.2.0 in /usr/local/lib/python3.11/dist-packages (from aiohttp<4,>=3.8.6->llama-index-core>=0.12.0->llama-cloud-services>=0.6.53->llama-parse) (0.3.2)\n",
            "Requirement already satisfied: yarl<2.0,>=1.17.0 in /usr/local/lib/python3.11/dist-packages (from aiohttp<4,>=3.8.6->llama-index-core>=0.12.0->llama-cloud-services>=0.6.53->llama-parse) (1.20.1)\n",
            "Requirement already satisfied: griffe in /usr/local/lib/python3.11/dist-packages (from banks<3,>=2.2.0->llama-index-core>=0.12.0->llama-cloud-services>=0.6.53->llama-parse) (1.9.0)\n",
            "Requirement already satisfied: jinja2 in /usr/local/lib/python3.11/dist-packages (from banks<3,>=2.2.0->llama-index-core>=0.12.0->llama-cloud-services>=0.6.53->llama-parse) (3.1.6)\n",
            "Requirement already satisfied: anyio in /usr/local/lib/python3.11/dist-packages (from httpx>=0.20.0->llama-cloud==0.1.35->llama-cloud-services>=0.6.53->llama-parse) (4.9.0)\n",
            "Requirement already satisfied: httpcore==1.* in /usr/local/lib/python3.11/dist-packages (from httpx>=0.20.0->llama-cloud==0.1.35->llama-cloud-services>=0.6.53->llama-parse) (1.0.9)\n",
            "Requirement already satisfied: idna in /usr/local/lib/python3.11/dist-packages (from httpx>=0.20.0->llama-cloud==0.1.35->llama-cloud-services>=0.6.53->llama-parse) (3.10)\n",
            "Requirement already satisfied: h11>=0.16 in /usr/local/lib/python3.11/dist-packages (from httpcore==1.*->httpx>=0.20.0->llama-cloud==0.1.35->llama-cloud-services>=0.6.53->llama-parse) (0.16.0)\n",
            "Requirement already satisfied: llama-index-instrumentation>=0.1.0 in /usr/local/lib/python3.11/dist-packages (from llama-index-workflows<2,>=1.0.1->llama-index-core>=0.12.0->llama-cloud-services>=0.6.53->llama-parse) (0.4.0)\n",
            "Requirement already satisfied: joblib in /usr/local/lib/python3.11/dist-packages (from nltk>3.8.1->llama-index-core>=0.12.0->llama-cloud-services>=0.6.53->llama-parse) (1.5.1)\n",
            "Requirement already satisfied: regex>=2021.8.3 in /usr/local/lib/python3.11/dist-packages (from nltk>3.8.1->llama-index-core>=0.12.0->llama-cloud-services>=0.6.53->llama-parse) (2024.11.6)\n",
            "Requirement already satisfied: charset-normalizer<4,>=2 in /usr/local/lib/python3.11/dist-packages (from requests>=2.31.0->llama-index-core>=0.12.0->llama-cloud-services>=0.6.53->llama-parse) (3.4.2)\n",
            "Requirement already satisfied: urllib3<3,>=1.21.1 in /usr/local/lib/python3.11/dist-packages (from requests>=2.31.0->llama-index-core>=0.12.0->llama-cloud-services>=0.6.53->llama-parse) (2.5.0)\n",
            "Requirement already satisfied: greenlet>=1 in /usr/local/lib/python3.11/dist-packages (from sqlalchemy>=1.4.49->sqlalchemy[asyncio]>=1.4.49->llama-index-core>=0.12.0->llama-cloud-services>=0.6.53->llama-parse) (3.2.3)\n",
            "Requirement already satisfied: mypy-extensions>=0.3.0 in /usr/local/lib/python3.11/dist-packages (from typing-inspect>=0.8.0->llama-index-core>=0.12.0->llama-cloud-services>=0.6.53->llama-parse) (1.1.0)\n",
            "Requirement already satisfied: marshmallow<4.0.0,>=3.18.0 in /usr/local/lib/python3.11/dist-packages (from dataclasses-json->llama-index-core>=0.12.0->llama-cloud-services>=0.6.53->llama-parse) (3.26.1)\n",
            "Requirement already satisfied: packaging>=17.0 in /usr/local/lib/python3.11/dist-packages (from marshmallow<4.0.0,>=3.18.0->dataclasses-json->llama-index-core>=0.12.0->llama-cloud-services>=0.6.53->llama-parse) (25.0)\n",
            "Requirement already satisfied: sniffio>=1.1 in /usr/local/lib/python3.11/dist-packages (from anyio->httpx>=0.20.0->llama-cloud==0.1.35->llama-cloud-services>=0.6.53->llama-parse) (1.3.1)\n",
            "Requirement already satisfied: colorama>=0.4 in /usr/local/lib/python3.11/dist-packages (from griffe->banks<3,>=2.2.0->llama-index-core>=0.12.0->llama-cloud-services>=0.6.53->llama-parse) (0.4.6)\n",
            "Requirement already satisfied: MarkupSafe>=2.0 in /usr/local/lib/python3.11/dist-packages (from jinja2->banks<3,>=2.2.0->llama-index-core>=0.12.0->llama-cloud-services>=0.6.53->llama-parse) (3.0.2)\n"
          ]
        }
      ],
      "source": [
        "%pip install llama-parse"
      ]
    },
    {
      "cell_type": "code",
      "source": [
        "!wget \"/content/imac-24inch-2port-2024-info.pdf\" -O mentoring_agreement.pdf"
      ],
      "metadata": {
        "colab": {
          "base_uri": "https://localhost:8080/"
        },
        "id": "t34tpCzNvPou",
        "outputId": "766b1951-02c3-47dc-e178-f34036141ae7"
      },
      "execution_count": 20,
      "outputs": [
        {
          "output_type": "stream",
          "name": "stdout",
          "text": [
            "/content/imac-24inch-2port-2024-info.pdf: Scheme missing.\n"
          ]
        }
      ]
    },
    {
      "cell_type": "code",
      "source": [
        "import nest_asyncio\n",
        "\n",
        "nest_asyncio.apply()"
      ],
      "metadata": {
        "id": "mV7FRbMVvgkm"
      },
      "execution_count": 21,
      "outputs": []
    },
    {
      "cell_type": "code",
      "source": [
        "import os\n",
        "\n",
        "os.environ[\"LLAMA_CLOUD_API_KEY\"] = \"llx-CZNJChZIRdwzr9HWMFFU5pUMeyTkH1kWy7WH7bOGfNnG2tsp\""
      ],
      "metadata": {
        "id": "4WyViQb9wB3r"
      },
      "execution_count": 22,
      "outputs": []
    },
    {
      "cell_type": "code",
      "source": [
        "from llama_parse import LlamaParse\n",
        "\n",
        "document = LlamaParse(result_type='markdown').load_data('/content/imac-24inch-2port-2024-info.pdf')"
      ],
      "metadata": {
        "colab": {
          "base_uri": "https://localhost:8080/"
        },
        "id": "csxMJ5TDwhAQ",
        "outputId": "f9b4c6c0-d945-4206-f1bf-b67e67d82821"
      },
      "execution_count": 23,
      "outputs": [
        {
          "output_type": "stream",
          "name": "stdout",
          "text": [
            "Started parsing the file under job_id b124c160-e98f-45eb-9ac4-476c46d7c6cb\n"
          ]
        }
      ]
    },
    {
      "cell_type": "code",
      "source": [
        "document"
      ],
      "metadata": {
        "colab": {
          "base_uri": "https://localhost:8080/"
        },
        "id": "o8DchIxywuet",
        "outputId": "fbf51d4e-31fd-44c5-9cd3-0ee165c0d158"
      },
      "execution_count": 24,
      "outputs": [
        {
          "output_type": "execute_result",
          "data": {
            "text/plain": [
              "[Document(id_='1ac4f609-633a-482c-8c1a-64a1ecb7f0d0', embedding=None, metadata={}, excluded_embed_metadata_keys=[], excluded_llm_metadata_keys=[], relationships={}, metadata_template='{key}: {value}', metadata_separator='\\n', text_resource=MediaResource(embeddings=None, data=None, text='\\n# Before using iMac\\n\\nBefore using iMac, review the iMac Getting Started Guide at support.apple.com/guide/imac. Retain documentation for future reference.\\n\\n# Safety and Handling\\n\\nSee “Safety, handling and regulatory information” in the iMac Getting Started Guide.\\n\\n# Avoid Hearing Damage\\n\\nTo prevent possible hearing damage, do not listen at high volume levels for long periods. More information about sound and hearing is available online at apple.com/au/sound.\\n\\n# Apple Magic Mouse Class 1 Laser Information\\n\\nThe Apple Magic Mouse is classified as a Class 1 Laser product per IEC 60825-1 Ed. 3. This device complies with 21 CFR 1040.10 and 1040.11, except for conformance with IEC 60825-1 Ed. 3., as described in Laser Notice No. 56, dated 8 May 2019. Caution: This device contains one or more lasers. Use other than as described in the user guide, repair or disassembly may cause damage, which could result in hazardous exposure to infrared laser emissions that are not visible. This equipment should be serviced by Apple or an authorised service provider.\\n\\n# CLASS 1 LASER PRODUCT\\n\\n# Power\\n\\nWARNING: Your AC cord has a three-wire grounding plug (a plug that has three connections, one of which is for safety earth ground). This plug is intended to be used with a grounded AC power point. If you are unable to insert the plug into a power point because the power point isn’t grounded, or if there is no ground connection in the power point, contact a licensed electrician to replace the power point with a properly grounded one. Do not defeat the purpose of the grounding plug.\\n\\n# Regulatory Information\\n\\nRegulatory certification information is available on device. Choose Apple menu \\uf8ff > About This Mac, then click Regulatory Certification. Additional regulatory information is in “Safety, handling and regulatory information” in the iMac Getting Started Guide.\\n\\n| Singapore | Complies with | IMDA Standards | DB00063 |\\n| --------- | ------------- | -------------- | ------- |\\n\\n\\n', path=None, url=None, mimetype=None), image_resource=None, audio_resource=None, video_resource=None, text_template='{metadata_str}\\n\\n{content}'),\n",
              " Document(id_='09b797a8-ef7e-4bf8-8316-5c8255809481', embedding=None, metadata={}, excluded_embed_metadata_keys=[], excluded_llm_metadata_keys=[], relationships={}, metadata_template='{key}: {value}', metadata_separator='\\n', text_resource=MediaResource(embeddings=None, data=None, text='\\n# ENERGY STAR® Compliance\\n\\nAs an ENERGY STAR partner, Apple has determined that standard configurations of this product meet the ENERGY STAR guidelines for energy efficiency. The ENERGY STAR program is a partnership with electronic equipment manufacturers to promote energy-efficient products. Reducing the energy consumption of products saves money and helps conserve valuable resources.\\n\\nThis computer is shipped with power management enabled, with the computer set to sleep after 10 minutes of user inactivity. To wake your computer, click the mouse or trackpad button or press any key on the keyboard. For more information about ENERGY STAR, visit energystar.gov.\\n\\n# Disposal and Recycling Information\\n\\nThe symbol above means that, according to local laws and regulations, your product and/or its battery shall be disposed of separately from household waste. When this product reaches its end of life, take it to a collection point designated by local authorities. The separate collection and recycling of your product and/or its battery at the time of disposal will help conserve natural resources and ensure it is recycled in a manner that protects human health and the environment. For information about Apple’s recycling program, recycling collection points, restricted substances and other environmental initiatives, visit apple.com/au/environment.\\n\\n# Built-in Batteries\\n\\nYour peripherals come with integrated lithium-ion batteries. The built-in battery should only be replaced or repaired by a trained technician to avoid battery damage, which could cause overheating, fire or injury. Repairs performed by untrained individuals or using non-genuine Apple parts may affect the safety and functionality of the device. The built-in battery must be recycled or disposed of separately from household waste. For information about Apple lithium-ion batteries, go to apple.com/au/batteries/service-and-recycling.\\n', path=None, url=None, mimetype=None), image_resource=None, audio_resource=None, video_resource=None, text_template='{metadata_str}\\n\\n{content}'),\n",
              " Document(id_='5382222f-6d9b-4cfe-b35c-d87d328c8f2c', embedding=None, metadata={}, excluded_embed_metadata_keys=[], excluded_llm_metadata_keys=[], relationships={}, metadata_template='{key}: {value}', metadata_separator='\\n', text_resource=MediaResource(embeddings=None, data=None, text='\\n# Software Licence Agreement\\n\\nUse of this computer constitutes acceptance of the Apple and third-party software licence terms found at apple.com/au/legal/sla.\\n\\n# Apple One-Year Limited Warranty Summary\\n\\nApple warrants the included hardware product and accessories against defects in materials and workmanship for one year from the date of original retail purchase. Apple does not warrant against normal wear and tear, or damage caused by accident or abuse. To obtain service, call Apple or visit an Apple Store or an Apple Authorised Service Provider — available service options are dependent on the country in which service is requested and may be restricted to the original country of sale. Call charges and international delivery charges may apply, depending on the location. Subject to the full terms and detailed information on obtaining service available at apple.com/au/legal/warranty and support.apple.com/en-au, if you submit a valid claim under this warranty, Apple will either repair, replace or refund your hardware device at its own discretion. Warranty benefits are in addition to rights provided under local consumer laws. You may be required to furnish proof of purchase details when making a claim under this warranty.\\n\\nFor Australian Consumers: Our goods come with guarantees that cannot be excluded under the Australian Consumer Law. You are entitled to a replacement or refund for a major failure and for compensation for any other reasonably foreseeable loss or damage. You are also entitled to have the goods repaired or replaced if the goods fail to be of acceptable quality and the failure does not amount to a major failure.\\n\\nApple Pty Ltd, PO Box A2629, Sydney South, NSW 1235. Tel: 133-622.\\n', path=None, url=None, mimetype=None), image_resource=None, audio_resource=None, video_resource=None, text_template='{metadata_str}\\n\\n{content}'),\n",
              " Document(id_='a53d9643-afd3-4c47-a8a6-93f960d4bab1', embedding=None, metadata={}, excluded_embed_metadata_keys=[], excluded_llm_metadata_keys=[], relationships={}, metadata_template='{key}: {value}', metadata_separator='\\n', text_resource=MediaResource(embeddings=None, data=None, text='\\n\\n\\n© 2024 Apple Inc. All rights reserved. Apple, the Apple logo, iMac, Mac and Magic Mouse are trademarks of Apple Inc., registered in the US and other countries and regions. Apple Store is a service mark of Apple Inc., registered in the US and other countries and regions. ENERGY STAR and the ENERGY STAR mark are registered trademarks owned by the US Environmental Protection Agency.\\n\\nPrinted in XXXX.  X034-06334-A', path=None, url=None, mimetype=None), image_resource=None, audio_resource=None, video_resource=None, text_template='{metadata_str}\\n\\n{content}')]"
            ]
          },
          "metadata": {},
          "execution_count": 24
        }
      ]
    },
    {
      "cell_type": "code",
      "source": [
        "print(document[0].text[:1000])"
      ],
      "metadata": {
        "colab": {
          "base_uri": "https://localhost:8080/"
        },
        "id": "z-87k_2awwtP",
        "outputId": "3e812d00-29a4-483e-e46f-a172ed7924f2"
      },
      "execution_count": 25,
      "outputs": [
        {
          "output_type": "stream",
          "name": "stdout",
          "text": [
            "\n",
            "# Before using iMac\n",
            "\n",
            "Before using iMac, review the iMac Getting Started Guide at support.apple.com/guide/imac. Retain documentation for future reference.\n",
            "\n",
            "# Safety and Handling\n",
            "\n",
            "See “Safety, handling and regulatory information” in the iMac Getting Started Guide.\n",
            "\n",
            "# Avoid Hearing Damage\n",
            "\n",
            "To prevent possible hearing damage, do not listen at high volume levels for long periods. More information about sound and hearing is available online at apple.com/au/sound.\n",
            "\n",
            "# Apple Magic Mouse Class 1 Laser Information\n",
            "\n",
            "The Apple Magic Mouse is classified as a Class 1 Laser product per IEC 60825-1 Ed. 3. This device complies with 21 CFR 1040.10 and 1040.11, except for conformance with IEC 60825-1 Ed. 3., as described in Laser Notice No. 56, dated 8 May 2019. Caution: This device contains one or more lasers. Use other than as described in the user guide, repair or disassembly may cause damage, which could result in hazardous exposure to infrared laser emissions that are not visible. This equipment sho\n"
          ]
        }
      ]
    },
    {
      "cell_type": "code",
      "source": [
        "file_name = \"imac_manual.md\"\n",
        "with open(file_name, 'w') as file:\n",
        "  file.write(document[0].text)"
      ],
      "metadata": {
        "id": "4yoNgRNnw1MI"
      },
      "execution_count": 26,
      "outputs": []
    },
    {
      "cell_type": "code",
      "source": [
        "document_summary = LlamaParse(\n",
        "    result_type='markdown',\n",
        "    system_prompt=\"\"\" This is document of iMac. Generate Summary of it \"\"\"\n",
        ").load_data('/content/imac-24inch-2port-2024-info.pdf')"
      ],
      "metadata": {
        "colab": {
          "base_uri": "https://localhost:8080/"
        },
        "id": "9FXwqo57yYih",
        "outputId": "3db50c0d-8cc6-4013-a61c-8723b2bcb0a2"
      },
      "execution_count": 29,
      "outputs": [
        {
          "output_type": "stream",
          "name": "stdout",
          "text": [
            "Started parsing the file under job_id 18503516-e041-49dd-beed-c77e40ed93da\n"
          ]
        }
      ]
    },
    {
      "cell_type": "code",
      "source": [
        "file_name = 'imac_manual_summary.md'\n",
        "with open(file_name, 'w') as file:\n",
        "  file.write(document_summary[0].text)"
      ],
      "metadata": {
        "id": "hTdH69hKy2Er"
      },
      "execution_count": 30,
      "outputs": []
    },
    {
      "cell_type": "code",
      "source": [],
      "metadata": {
        "id": "ARD35feHzCJt"
      },
      "execution_count": null,
      "outputs": []
    }
  ]
}